{
 "cells": [
  {
   "cell_type": "markdown",
   "id": "06a1a03b",
   "metadata": {},
   "source": [
    "# Tutorial para cortar imagen en una región\n",
    "\n",
    "Se explica como definir los límites y cortar la imagen."
   ]
  },
  {
   "cell_type": "code",
   "execution_count": 1,
   "id": "80022a3a",
   "metadata": {},
   "outputs": [],
   "source": [
    "from netCDF4 import Dataset\n",
    "from pyproj import Proj\n",
    "import numpy as np"
   ]
  },
  {
   "cell_type": "markdown",
   "id": "cd2fad17",
   "metadata": {},
   "source": [
    "## 1. Selección de los datos"
   ]
  },
  {
   "cell_type": "markdown",
   "id": "730b2013",
   "metadata": {},
   "source": [
    "### Primero leamos una imagen\n",
    "\n",
    "Tomaré la del ejemplo de descarga"
   ]
  },
  {
   "cell_type": "code",
   "execution_count": 2,
   "id": "f61f3544",
   "metadata": {},
   "outputs": [],
   "source": [
    "ds = Dataset('OR_ABI-L2-TPWF-M6_G16_s20201251700143_e20201251709451_c20201251710417.nc')"
   ]
  },
  {
   "cell_type": "code",
   "execution_count": 3,
   "id": "00b49302",
   "metadata": {},
   "outputs": [
    {
     "data": {
      "text/plain": [
       "dict_keys(['TPW', 'DQF_Overall', 'DQF_Retrieval', 'DQF_SkinTemp', 't', 'y', 'x', 'time_bounds', 'goes_imager_projection', 'y_image', 'y_image_bounds', 'x_image', 'x_image_bounds', 'nominal_satellite_subpoint_lat', 'nominal_satellite_subpoint_lon', 'nominal_satellite_height', 'geospatial_lat_lon_extent', 'outlier_pixel_count', 'minimum_total_precipitable_water', 'maximum_total_precipitable_water', 'mean_total_precipitable_water', 'standard_deviation_total_precipitable_water', 'algorithm_dynamic_input_data_container', 'processing_parm_version_container', 'algorithm_product_version_container', 'retrieval_local_zenith_angle', 'quantitative_local_zenith_angle', 'retrieval_local_zenith_angle_bounds', 'quantitative_local_zenith_angle_bounds', 'solar_zenith_angle', 'solar_zenith_angle_bounds', 'latitude', 'latitude_bounds', 'sounding_emissive_wavelengths', 'sounding_emissive_band_ids', 'percent_uncorrectable_L0_errors', 'percent_uncorrectable_GRB_errors', 'total_attempted_retrievals', 'mean_obs_modeled_diff_sounding_emissive_bands', 'std_dev_obs_modeled_diff_sounding_emissive_bands'])"
      ]
     },
     "execution_count": 3,
     "metadata": {},
     "output_type": "execute_result"
    }
   ],
   "source": [
    "ds.variables.keys()"
   ]
  },
  {
   "cell_type": "markdown",
   "id": "611efb7f",
   "metadata": {},
   "source": [
    "Como vemos, se guardan muchas variables, de las cuales solamente usaremos algunas. En mi caso, las únicas que he necesitado son las coordenadas **x** e **y**, la variable **goes_imager_projection** (que contiene información relevante, como altura y longitud del satélite); la medida como tal, que en este caso es **TPW** (Total Precipitable Water); y de pronto el tiempo **t** (que en realidad yo lo tomo del nombre de la imagen).\n",
    "\n",
    "Recordemos que para ver qué es una variable se puede hacer lo siguiente:"
   ]
  },
  {
   "cell_type": "code",
   "execution_count": 4,
   "id": "b5a43191",
   "metadata": {},
   "outputs": [
    {
     "data": {
      "text/plain": [
       "<class 'netCDF4._netCDF4.Variable'>\n",
       "int16 TPW(y, x)\n",
       "    _FillValue: -1\n",
       "    long_name: ABI L2+ Total Precipitable Water\n",
       "    standard_name: lwe_thickness_of_atmosphere_mass_content_of_water_vapor\n",
       "    _Unsigned: true\n",
       "    valid_range: [ 0 -6]\n",
       "    scale_factor: 0.00152602\n",
       "    add_offset: 0.0\n",
       "    units: mm\n",
       "    resolution: y: 0.000280 rad x: 0.000280 rad\n",
       "    coordinates: latitude retrieval_local_zenith_angle quantitative_local_zenith_angle solar_zenith_angle t y x\n",
       "    grid_mapping: goes_imager_projection\n",
       "    cell_methods: latitude: point (good quality pixel produced) retrieval_local_zenith_angle: point (good or degraded quality pixel produced) quantitative_local_zenith_angle: point (good quality pixel produced) solar_zenith_angle: point (good quality pixel produced) t: point area: point\n",
       "    ancillary_variables: DQF_Overall DQF_Retrieval DQF_SkinTemp\n",
       "unlimited dimensions: \n",
       "current shape = (1086, 1086)\n",
       "filling on"
      ]
     },
     "execution_count": 4,
     "metadata": {},
     "output_type": "execute_result"
    }
   ],
   "source": [
    "ds.variables['TPW']"
   ]
  },
  {
   "cell_type": "code",
   "execution_count": 18,
   "id": "08b57799",
   "metadata": {},
   "outputs": [
    {
     "data": {
      "text/plain": [
       "masked_array(\n",
       "  data=[[--, --, --, ..., --, --, --],\n",
       "        [--, --, --, ..., --, --, --],\n",
       "        [--, --, --, ..., --, --, --],\n",
       "        ...,\n",
       "        [--, --, --, ..., --, --, --],\n",
       "        [--, --, --, ..., --, --, --],\n",
       "        [--, --, --, ..., --, --, --]],\n",
       "  mask=[[ True,  True,  True, ...,  True,  True,  True],\n",
       "        [ True,  True,  True, ...,  True,  True,  True],\n",
       "        [ True,  True,  True, ...,  True,  True,  True],\n",
       "        ...,\n",
       "        [ True,  True,  True, ...,  True,  True,  True],\n",
       "        [ True,  True,  True, ...,  True,  True,  True],\n",
       "        [ True,  True,  True, ...,  True,  True,  True]],\n",
       "  fill_value=65535,\n",
       "  dtype=float32)"
      ]
     },
     "execution_count": 18,
     "metadata": {},
     "output_type": "execute_result"
    }
   ],
   "source": [
    "ds.variables['TPW'][:]"
   ]
  },
  {
   "cell_type": "markdown",
   "id": "24f94ea0",
   "metadata": {},
   "source": [
    "También puede ver la descripción de todas las variables ejecutando la tarea **ds.variables.items()**"
   ]
  },
  {
   "cell_type": "markdown",
   "id": "2ec150d5",
   "metadata": {},
   "source": [
    "### Crear proyección\n",
    "\n",
    "El segundo paso es crear la proyección, es decir, pasar de las coordenadas x e y de GOES a un sistema de longitud-latitud. Para ésto, usaremos la tarea Proj de la librería pyproj."
   ]
  },
  {
   "cell_type": "code",
   "execution_count": 5,
   "id": "118af44f",
   "metadata": {},
   "outputs": [],
   "source": [
    "# Altura de la órbita del satélite\n",
    "sat_h= ds.variables['goes_imager_projection'].perspective_point_height\n",
    "\n",
    "# Longitud geográfica de la órbita del satélite\n",
    "sat_lon = ds.variables['goes_imager_projection'].longitude_of_projection_origin\n",
    "\n",
    "# Dirección en que se hace el barrido\n",
    "sat_sweep = ds.variables['goes_imager_projection'].sweep_angle_axis\n",
    "\n",
    "# Leo las coordenadas en la imagen. \n",
    "# Son generadas con una proyección geo-estacionaria\n",
    "\n",
    "x = ds.variables['x'][:]\n",
    "y = ds.variables['y'][:]\n",
    "\n",
    "# map object with pyproj\n",
    "p = Proj(proj='geos', h=sat_h, lon_0=sat_lon, sweep=sat_sweep)\n",
    "\n",
    "# Convert map points to latitude and longitude with the magic provided by Pyproj\n",
    "XX, YY = np.meshgrid(x*sat_h, y*sat_h)\n",
    "lons, lats = p(XX, YY, inverse=True)"
   ]
  },
  {
   "cell_type": "markdown",
   "id": "fd8cdb4c",
   "metadata": {},
   "source": [
    "### Definir límites del área a estudiar\n",
    "\n",
    "Ahora que tenemos latitudes y longitudes, podemos definir más fácilmente los límites del área requerida. En este ejemplo definiremos un área que toma parte de Centro América y el norte de Suramérica, centrada en el límite entre Colombia y Perú. Esto es, entre -90° y -60° de longitud, y entre -15° y 15° de latitud.\n",
    "\n",
    "**Nota:** En mi experiencia trabajando con estos mapas he notado que los resultados son más \"bonitos\" si se toma un área cuadrada (en términos de longitud angular)."
   ]
  },
  {
   "cell_type": "code",
   "execution_count": 6,
   "id": "99a7680d",
   "metadata": {},
   "outputs": [],
   "source": [
    "# Definimos los límites oeste y este en longitud, y sur y norte en latitud, respectivamente\n",
    "# Cambie estos números si quiere trabajar en un area diferente\n",
    "bound = {'lon': [-90,-60], \n",
    "         'lat': [-15,15]}\n",
    "\n",
    "xmin,ymin = p(bound['lon'][0],bound['lat'][0])/sat_h\n",
    "xmax,ymax = p(bound['lon'][1],bound['lat'][1])/sat_h\n",
    "\n",
    "# Creamos unos arreglos que indican las posiciones en los arreglos de x e y\n",
    "# que estan dentro del area\n",
    "sel_x = np.where((x>=xmin) & (x<=xmax))\n",
    "sel_y = np.where((y>=ymin) & (y<=ymax))"
   ]
  },
  {
   "cell_type": "markdown",
   "id": "a5906f47",
   "metadata": {},
   "source": [
    "### Seleccionamos los datos dentro del área"
   ]
  },
  {
   "cell_type": "code",
   "execution_count": 7,
   "id": "3c63cc51",
   "metadata": {},
   "outputs": [],
   "source": [
    "x_col = x[sel_x]\n",
    "y_col = x[sel_y]\n",
    "TPW = ds.variables['TPW'][sel_y[0].min():sel_y[0].max()+1,sel_x[0].min():sel_x[0].max()+1]"
   ]
  },
  {
   "cell_type": "markdown",
   "id": "0c9af78d",
   "metadata": {},
   "source": [
    "Comparemos el tamaño de las matrices"
   ]
  },
  {
   "cell_type": "code",
   "execution_count": 8,
   "id": "bec4bdac",
   "metadata": {},
   "outputs": [
    {
     "name": "stdout",
     "output_type": "stream",
     "text": [
      "Imagen completa (1086, 1086)\n",
      "Imagen cortada (324, 314)\n"
     ]
    }
   ],
   "source": [
    "print('Imagen completa',np.shape(ds.variables['TPW'][:]))\n",
    "print('Imagen cortada',np.shape(TPW))"
   ]
  },
  {
   "cell_type": "markdown",
   "id": "6439e3b6",
   "metadata": {},
   "source": [
    "## 2. Guardar una nueva imagen\n",
    "\n",
    "Al tomar los datos para una región más pequeña, la cantidad de datos disminuye notablemente, por lo que puede ser factible almacenar una imagen cortada para ahorrar espacio en disco. A continuación haremos la prueba para una imagen 2D (el procedimiento para imágenes 3D es similar, solo hace falta agregar la variable en z, que puede ser presión, por ejemplo)."
   ]
  },
  {
   "cell_type": "code",
   "execution_count": 9,
   "id": "061e7b3b",
   "metadata": {},
   "outputs": [],
   "source": [
    "# Abrimos el archivo a escribir\n",
    "# El primer argumento debe contener el nombre (path) del archivo\n",
    "# Lo nombraremos asi TPW_20200512-1700.nc, con el nombre de la variable, la fecha y la hora\n",
    "new = Dataset('TPW_20200512-1700.nc','w',format='NETCDF4')\n",
    "\n",
    "# Creamos las dimensiones usando las coordenadas\n",
    "yy = new.createDimension('y',len(y_col))\n",
    "xx = new.createDimension('x',len(x_col))\n",
    "\n",
    "# Agregamos variables usando createVariaible\n",
    "# Primero va el nombre de la variable, luego el tipo y tercero las dimensiones\n",
    "# Debe asegurarse de que cada tipo coincida con los mostrados en la imagen original\n",
    "ys = new.createVariable('y','i2',('y',))\n",
    "xs = new.createVariable('x','i2',('x',))\n",
    "var_ = new.createVariable('TPW','i2',('y','x',))\n",
    "g_ = new.createVariable('goes_imager_projection','i4')\n",
    "# Note que creamos las variables como enteros para que ocupen menos espacio en disco.\n",
    "# Para que los valores sean correctos se deben definir los atributos de las variables tal y como en los archivos originales, como se muestra a continuación.\n"
   ]
  },
  {
   "cell_type": "markdown",
   "id": "eec4ce30",
   "metadata": {},
   "source": [
    "Ahora, debemos definir los atributos de las variables. Como son los mismos de la imagen original, yo los copiaré, aunque, al no guardar todas las variables de la imagen, algunos atributos ya no tendrán sentido (la verdad es que me da pereza escribir a mano los importantes).\n",
    "\n",
    "Dichos atributos son llamados de forma abreviada *ncattr* y para copiarlos utilizaremos las tareas **setncatts** y **getncattr**\n",
    "\n",
    "Hagamos esto primero para la variable **goes_imager_projection**."
   ]
  },
  {
   "cell_type": "code",
   "execution_count": 10,
   "id": "85b8a703",
   "metadata": {},
   "outputs": [],
   "source": [
    "g_.setncatts({k: ds.variables['goes_imager_projection'].getncattr(k) for k in ds.variables['goes_imager_projection'].ncattrs()})"
   ]
  },
  {
   "cell_type": "markdown",
   "id": "f3ad9764",
   "metadata": {},
   "source": [
    "Ahora para las coordenadas:"
   ]
  },
  {
   "cell_type": "code",
   "execution_count": 11,
   "id": "7ca11686",
   "metadata": {},
   "outputs": [],
   "source": [
    "ys.setncatts({k: ds.variables['y'].getncattr(k) for k in ds.variables['y'].ncattrs()})\n",
    "xs.setncatts({k: ds.variables['x'].getncattr(k) for k in ds.variables['x'].ncattrs()})"
   ]
  },
  {
   "cell_type": "markdown",
   "id": "197cc618",
   "metadata": {},
   "source": [
    "Y por último para la variable de TPW:"
   ]
  },
  {
   "cell_type": "code",
   "execution_count": 12,
   "id": "f034abb7",
   "metadata": {},
   "outputs": [],
   "source": [
    "var_.setncatts({k: ds.variables['TPW'].getncattr(k) for k in ds.variables['TPW'].ncattrs()})"
   ]
  },
  {
   "cell_type": "markdown",
   "id": "b15479dc",
   "metadata": {},
   "source": [
    "Miremos como quedaron"
   ]
  },
  {
   "cell_type": "code",
   "execution_count": 13,
   "id": "64b71e56",
   "metadata": {},
   "outputs": [
    {
     "data": {
      "text/plain": [
       "<class 'netCDF4._netCDF4.Variable'>\n",
       "float32 goes_imager_projection()\n",
       "    long_name: GOES-R ABI fixed grid projection\n",
       "    grid_mapping_name: geostationary\n",
       "    perspective_point_height: 35786023.0\n",
       "    semi_major_axis: 6378137.0\n",
       "    semi_minor_axis: 6356752.31414\n",
       "    inverse_flattening: 298.2572221\n",
       "    latitude_of_projection_origin: 0.0\n",
       "    longitude_of_projection_origin: -75.0\n",
       "    sweep_angle_axis: x\n",
       "unlimited dimensions: \n",
       "current shape = ()\n",
       "filling on, default _FillValue of 9.969209968386869e+36 used"
      ]
     },
     "execution_count": 13,
     "metadata": {},
     "output_type": "execute_result"
    }
   ],
   "source": [
    "new.variables['goes_imager_projection']"
   ]
  },
  {
   "cell_type": "code",
   "execution_count": 14,
   "id": "db79eae5",
   "metadata": {},
   "outputs": [
    {
     "data": {
      "text/plain": [
       "<class 'netCDF4._netCDF4.Variable'>\n",
       "float32 y(y)\n",
       "    scale_factor: -0.00028\n",
       "    add_offset: 0.1519\n",
       "    units: rad\n",
       "    axis: Y\n",
       "    long_name: GOES Projection y-Coordinate\n",
       "    standard_name: projection_y_coordinate\n",
       "unlimited dimensions: \n",
       "current shape = (324,)\n",
       "filling on, default _FillValue of 9.969209968386869e+36 used"
      ]
     },
     "execution_count": 14,
     "metadata": {},
     "output_type": "execute_result"
    }
   ],
   "source": [
    "ys"
   ]
  },
  {
   "cell_type": "code",
   "execution_count": 15,
   "id": "ac7275e0",
   "metadata": {},
   "outputs": [
    {
     "data": {
      "text/plain": [
       "<class 'netCDF4._netCDF4.Variable'>\n",
       "int16 TPW(y, x)\n",
       "    _FillValue: -1\n",
       "    long_name: ABI L2+ Total Precipitable Water\n",
       "    standard_name: lwe_thickness_of_atmosphere_mass_content_of_water_vapor\n",
       "    _Unsigned: true\n",
       "    valid_range: [ 0 -6]\n",
       "    scale_factor: 0.00152602\n",
       "    add_offset: 0.0\n",
       "    units: mm\n",
       "    resolution: y: 0.000280 rad x: 0.000280 rad\n",
       "    coordinates: latitude retrieval_local_zenith_angle quantitative_local_zenith_angle solar_zenith_angle t y x\n",
       "    grid_mapping: goes_imager_projection\n",
       "    cell_methods: latitude: point (good quality pixel produced) retrieval_local_zenith_angle: point (good or degraded quality pixel produced) quantitative_local_zenith_angle: point (good quality pixel produced) solar_zenith_angle: point (good quality pixel produced) t: point area: point\n",
       "    ancillary_variables: DQF_Overall DQF_Retrieval DQF_SkinTemp\n",
       "unlimited dimensions: \n",
       "current shape = (324, 314)\n",
       "filling on"
      ]
     },
     "execution_count": 15,
     "metadata": {},
     "output_type": "execute_result"
    }
   ],
   "source": [
    "var_"
   ]
  },
  {
   "cell_type": "markdown",
   "id": "2d36df42",
   "metadata": {},
   "source": [
    "### Ahora, asignemos los valores a cada variable"
   ]
  },
  {
   "cell_type": "code",
   "execution_count": 16,
   "id": "7e6020cc",
   "metadata": {},
   "outputs": [],
   "source": [
    "#Asignar valores\n",
    "ys[:] = y_col\n",
    "xs[:] = x_col\n",
    "var_[:] = TPW"
   ]
  },
  {
   "cell_type": "markdown",
   "id": "da5c9a7d",
   "metadata": {},
   "source": [
    "### Finalmente, se debe cerrar el archivo"
   ]
  },
  {
   "cell_type": "code",
   "execution_count": 17,
   "id": "e2d40ca3",
   "metadata": {},
   "outputs": [],
   "source": [
    "new.close()"
   ]
  },
  {
   "cell_type": "code",
   "execution_count": null,
   "id": "fbf94364",
   "metadata": {},
   "outputs": [],
   "source": []
  }
 ],
 "metadata": {
  "kernelspec": {
   "display_name": "Python 3",
   "language": "python",
   "name": "python3"
  },
  "language_info": {
   "codemirror_mode": {
    "name": "ipython",
    "version": 3
   },
   "file_extension": ".py",
   "mimetype": "text/x-python",
   "name": "python",
   "nbconvert_exporter": "python",
   "pygments_lexer": "ipython3",
   "version": "3.8.10"
  }
 },
 "nbformat": 4,
 "nbformat_minor": 5
}
