{
 "cells": [
  {
   "cell_type": "markdown",
   "id": "6644ed7c",
   "metadata": {},
   "source": [
    "# Turorial de descarga de datos usando la herramienta GOES\n",
    "\n",
    "Esta herramienta permite, entre otras cosas, descargar imágenes proporsionadas por GOES-R series. Se puede instalar simplemente ejecutando el comando *pip install GOES* desde una terminal.\n",
    "\n",
    "A continuación se hace una breve descripción sobre la descarga de imágenes con esta herramienta."
   ]
  },
  {
   "cell_type": "markdown",
   "id": "9bd6fccb",
   "metadata": {},
   "source": [
    "### Importamos la librería"
   ]
  },
  {
   "cell_type": "code",
   "execution_count": 1,
   "id": "9f1204df",
   "metadata": {},
   "outputs": [],
   "source": [
    "import GOES"
   ]
  },
  {
   "cell_type": "markdown",
   "id": "7c51265c",
   "metadata": {},
   "source": [
    "Para la descarga se utiliza el comando **download**. Veamos como funciona:"
   ]
  },
  {
   "cell_type": "code",
   "execution_count": 3,
   "id": "fd5b43e6",
   "metadata": {
    "scrolled": false
   },
   "outputs": [
    {
     "name": "stdout",
     "output_type": "stream",
     "text": [
      "Help on function download in module GOES.downloads.download_data:\n",
      "\n",
      "download(Satellite, Product, DateTimeIni=None, DateTimeFin=None, domain=None, channel=None, rename_fmt=False, path_out='', retries=10, backoff=10, size_format='Decimal', show_download_progress=True)\n",
      "    Download data of GOES-16 and GOES-17 from Amazon server.\n",
      "    This function is based on the code of\n",
      "    blaylockbk https://gist.github.com/blaylockbk/d60f4fce15a7f0475f975fc57da9104d\n",
      "    \n",
      "    \n",
      "    Parameters\n",
      "    ----------\n",
      "    Satellite : str\n",
      "        Indicates serie of GOES, the options are 'goes16' and 'goes17'\n",
      "    \n",
      "    \n",
      "    Product : str\n",
      "        Indicates the instrument and level of product. The products\n",
      "        can be list using: GOES.show_products()\n",
      "    \n",
      "    \n",
      "    DateTimeIni : str\n",
      "        String that indicates the initial datetime. Its structure\n",
      "        must be yyyymmdd-HHMMSS\n",
      "        Example:\n",
      "            DateTimeIni='20180520-183000'\n",
      "    \n",
      "    \n",
      "    DateTimeFin : str\n",
      "        String that indicates the final datetime. Its structure\n",
      "        must be yyyymmdd-HHMMSS\n",
      "        Example:\n",
      "            DateTimeFin='20180520-183000'\n",
      "    \n",
      "    \n",
      "    domain : str\n",
      "        This parameter just is necessary with Mesoescale products.\n",
      "        The options are:\n",
      "            M1 : Mesoscale 1\n",
      "            M2 : Mesoscale 2\n",
      "    \n",
      "    \n",
      "    channel : list\n",
      "        This parameter just is necessary with ABI-L1b-Rad and ABI-L2-CMIP products.\n",
      "        List indicates the channel or channels that will be download.\n",
      "        The channels can be mentioned individually as elements of the list\n",
      "        or as a sequence of channels separated by a hyphen ('-').\n",
      "        Example:\n",
      "            channel = ['02','08','09','10','11','13']\n",
      "            channel = ['02','08-11','13']\n",
      "    \n",
      "    \n",
      "    rename_fmt : boolean or str, optional, default False\n",
      "        Is an optional parameter and its default value is rename_fmt=False which\n",
      "        indicates that the file name is kept. If would you like that the file name\n",
      "        just keep the start time of scan you have to define the format of datetime.\n",
      "        See the next link to know about datetime format:\n",
      "        https://docs.python.org/3/library/datetime.html#strftime-and-strptime-format-codes).\n",
      "        Example:\n",
      "            rename_fmt = '%Y%m%d%H%M%S'\n",
      "            rename_fmt = '%Y%m%d%H%M'\n",
      "            rename_fmt = '%Y%j%H%M'\n",
      "    \n",
      "    \n",
      "    path_out : str, optional, default ''\n",
      "        Optional string that indicates the folder where data will be download.\n",
      "        The default value is folder where python was open.\n",
      "    \n",
      "    \n",
      "    retries: int, optional, default 10\n",
      "        Defines the retries number to connect to server.\n",
      "        See: https://urllib3.readthedocs.io/en/latest/reference/urllib3.util.html#module-urllib3.util.retry\n",
      "    \n",
      "    backoff: int, optional, default 10\n",
      "        A backoff factor to apply between attempts after the second try.\n",
      "        See: https://urllib3.readthedocs.io/en/latest/reference/urllib3.util.html#module-urllib3.util.retry\n",
      "    \n",
      "    \n",
      "    size_format: str, optional, default 'Decimal'\n",
      "        It defines how is print the size of file.\n",
      "        Options are:\n",
      "            'Decimal' : divide file size (in bytes) by (1000*1000) \n",
      "            'Binary' : divide file size (in bytes) by (1024*1024)\n",
      "    \n",
      "    show_download_progress : boolean, optional, default True\n",
      "        Parameter to enable and disable the visualization of download progress.\n",
      "    \n",
      "    Return\n",
      "    ------\n",
      "    Download_files : list\n",
      "        List with the downloaded files (path+filename).\n",
      "\n"
     ]
    }
   ],
   "source": [
    "help(GOES.download)"
   ]
  },
  {
   "cell_type": "markdown",
   "id": "7f0ae975",
   "metadata": {},
   "source": [
    "### ¿Qué datos puedo descargar?\n",
    "\n",
    "Para responder esta pregunta ejecutamos el siguiente comando"
   ]
  },
  {
   "cell_type": "code",
   "execution_count": 2,
   "id": "ae04847c",
   "metadata": {},
   "outputs": [
    {
     "name": "stdout",
     "output_type": "stream",
     "text": [
      " \n",
      "Products for goes16:\n",
      "\tABI-L1b-RadC\n",
      "\tABI-L1b-RadF\n",
      "\tABI-L1b-RadM\n",
      "\tABI-L2-ACHAC\n",
      "\tABI-L2-ACHAF\n",
      "\tABI-L2-ACHAM\n",
      "\tABI-L2-ACHTF\n",
      "\tABI-L2-ACHTM\n",
      "\tABI-L2-ACMC\n",
      "\tABI-L2-ACMF\n",
      "\tABI-L2-ACMM\n",
      "\tABI-L2-ACTPC\n",
      "\tABI-L2-ACTPF\n",
      "\tABI-L2-ACTPM\n",
      "\tABI-L2-ADPC\n",
      "\tABI-L2-ADPF\n",
      "\tABI-L2-ADPM\n",
      "\tABI-L2-AICEF\n",
      "\tABI-L2-AITAF\n",
      "\tABI-L2-AODC\n",
      "\tABI-L2-AODF\n",
      "\tABI-L2-CMIPC\n",
      "\tABI-L2-CMIPF\n",
      "\tABI-L2-CMIPM\n",
      "\tABI-L2-CODC\n",
      "\tABI-L2-CODF\n",
      "\tABI-L2-CPSC\n",
      "\tABI-L2-CPSF\n",
      "\tABI-L2-CPSM\n",
      "\tABI-L2-CTPC\n",
      "\tABI-L2-CTPF\n",
      "\tABI-L2-DMWC\n",
      "\tABI-L2-DMWF\n",
      "\tABI-L2-DMWM\n",
      "\tABI-L2-DMWVC\n",
      "\tABI-L2-DMWVF\n",
      "\tABI-L2-DMWVM\n",
      "\tABI-L2-DSIC\n",
      "\tABI-L2-DSIF\n",
      "\tABI-L2-DSIM\n",
      "\tABI-L2-DSRC\n",
      "\tABI-L2-DSRF\n",
      "\tABI-L2-DSRM\n",
      "\tABI-L2-FDCC\n",
      "\tABI-L2-FDCF\n",
      "\tABI-L2-FDCM\n",
      "\tABI-L2-LSTC\n",
      "\tABI-L2-LSTF\n",
      "\tABI-L2-LSTM\n",
      "\tABI-L2-LVMPC\n",
      "\tABI-L2-LVMPF\n",
      "\tABI-L2-LVMPM\n",
      "\tABI-L2-LVTPC\n",
      "\tABI-L2-LVTPF\n",
      "\tABI-L2-LVTPM\n",
      "\tABI-L2-MCMIPC\n",
      "\tABI-L2-MCMIPF\n",
      "\tABI-L2-MCMIPM\n",
      "\tABI-L2-RRQPEF\n",
      "\tABI-L2-RSRC\n",
      "\tABI-L2-RSRF\n",
      "\tABI-L2-SSTF\n",
      "\tABI-L2-TPWC\n",
      "\tABI-L2-TPWF\n",
      "\tABI-L2-TPWM\n",
      "\tABI-L2-VAAF\n",
      "\tBeginners_Guide_to_GOES-R_Series_Data.pdf\n",
      "\tEXIS-L1b-SFEU\n",
      "\tEXIS-L1b-SFXR\n",
      "\tGLM-L2-LCFA\n",
      "\tMAG-L1b-GEOF\n",
      "\tSEIS-L1b-EHIS\n",
      "\tSEIS-L1b-MPSH\n",
      "\tSEIS-L1b-MPSL\n",
      "\tSEIS-L1b-SGPS\n",
      "\tSUVI-L1b-Fe093\n",
      "\tSUVI-L1b-Fe131\n",
      "\tSUVI-L1b-Fe171\n",
      "\tSUVI-L1b-Fe195\n",
      "\tSUVI-L1b-Fe284\n",
      "\tSUVI-L1b-He303\n",
      "\tVersion1.1_Beginners_Guide_to_GOES-R_Series_Data.pdf\n",
      " \n",
      "Products for goes17:\n",
      "\tABI-L1b-RadC\n",
      "\tABI-L1b-RadF\n",
      "\tABI-L1b-RadM\n",
      "\tABI-L2-ACHAC\n",
      "\tABI-L2-ACHAF\n",
      "\tABI-L2-ACHAM\n",
      "\tABI-L2-ACHTF\n",
      "\tABI-L2-ACHTM\n",
      "\tABI-L2-ACMC\n",
      "\tABI-L2-ACMF\n",
      "\tABI-L2-ACMM\n",
      "\tABI-L2-ACTPC\n",
      "\tABI-L2-ACTPF\n",
      "\tABI-L2-ACTPM\n",
      "\tABI-L2-ADPC\n",
      "\tABI-L2-ADPF\n",
      "\tABI-L2-ADPM\n",
      "\tABI-L2-AICEF\n",
      "\tABI-L2-AITAF\n",
      "\tABI-L2-AODC\n",
      "\tABI-L2-AODF\n",
      "\tABI-L2-CMIPC\n",
      "\tABI-L2-CMIPF\n",
      "\tABI-L2-CMIPM\n",
      "\tABI-L2-CODC\n",
      "\tABI-L2-CODF\n",
      "\tABI-L2-CPSC\n",
      "\tABI-L2-CPSF\n",
      "\tABI-L2-CPSM\n",
      "\tABI-L2-CTPC\n",
      "\tABI-L2-CTPF\n",
      "\tABI-L2-DMWC\n",
      "\tABI-L2-DMWF\n",
      "\tABI-L2-DMWM\n",
      "\tABI-L2-DMWVC\n",
      "\tABI-L2-DMWVF\n",
      "\tABI-L2-DMWVM\n",
      "\tABI-L2-DSIC\n",
      "\tABI-L2-DSIF\n",
      "\tABI-L2-DSIM\n",
      "\tABI-L2-DSRC\n",
      "\tABI-L2-DSRF\n",
      "\tABI-L2-DSRM\n",
      "\tABI-L2-FDCC\n",
      "\tABI-L2-FDCF\n",
      "\tABI-L2-FDCM\n",
      "\tABI-L2-LSTC\n",
      "\tABI-L2-LSTF\n",
      "\tABI-L2-LSTM\n",
      "\tABI-L2-LVMPC\n",
      "\tABI-L2-LVMPF\n",
      "\tABI-L2-LVMPM\n",
      "\tABI-L2-LVTPC\n",
      "\tABI-L2-LVTPF\n",
      "\tABI-L2-LVTPM\n",
      "\tABI-L2-MCMIPC\n",
      "\tABI-L2-MCMIPF\n",
      "\tABI-L2-MCMIPM\n",
      "\tABI-L2-RRQPEF\n",
      "\tABI-L2-RSRC\n",
      "\tABI-L2-RSRF\n",
      "\tABI-L2-SSTF\n",
      "\tABI-L2-TPWC\n",
      "\tABI-L2-TPWF\n",
      "\tABI-L2-TPWM\n",
      "\tABI-L2-VAAF\n",
      "\tEXIS-L1b-SFEU\n",
      "\tEXIS-L1b-SFXR\n",
      "\tGLM-L2-LCFA\n",
      "\tMAG-L1b-GEOF\n",
      "\tSEIS-L1b-EHIS\n",
      "\tSEIS-L1b-MPSH\n",
      "\tSEIS-L1b-MPSL\n",
      "\tSEIS-L1b-SGPS\n",
      "\tSUVI-L1b-Fe093\n",
      "\tSUVI-L1b-Fe131\n",
      "\tSUVI-L1b-Fe171\n",
      "\tSUVI-L1b-Fe195\n",
      "\tSUVI-L1b-Fe284\n",
      "\tSUVI-L1b-He303\n",
      " \n",
      "Descriptions of each product is shown in https://docs.opendata.aws/noaa-goes16/cics-readme.html#about-the-data \n",
      "\n"
     ]
    }
   ],
   "source": [
    "GOES.show_products()"
   ]
  },
  {
   "cell_type": "markdown",
   "id": "d866c41b",
   "metadata": {},
   "source": [
    "Como podemos ver, se pueden descargar progductos de GOES 16 y 17; de diferentes instrumentos y niveles."
   ]
  },
  {
   "cell_type": "markdown",
   "id": "f3ed1034",
   "metadata": {},
   "source": [
    "Descarguemos una imagen full disk de, por ejemplo, agua precipitable, del satélite GOES 16 (East). Para este caso, tenemos que es un producto L2 del instrumento ABI (Advanced Baseline Imager). Las siglas para dicho producto son TPW (Total precipitable Water). Note que, en la lista de arriba, cada producto de ABI termina ya sea con la letra C, F o M, que indica la región de la imagen; C para Conus, F para Full-disk y M para Mesoescale. Con todo esto, tenemos que el nombre de producto que vamos a utilizar en el comando de descarga es: ABI-L2-TPWF.\n",
    "\n",
    "La tarea **download** puede descargar múltiples imágenes dado un intervalo de tiempo. Para este ejemplo queremos descargar solo una; teniendo en cuenta que la resolución temporal del instrumento es de 10 minutos, definiremos un intervalo menor que dicho tiempo."
   ]
  },
  {
   "cell_type": "code",
   "execution_count": 6,
   "id": "18b6641d",
   "metadata": {},
   "outputs": [],
   "source": [
    "# ¿Qué satelite?\n",
    "sat = 'goes16'\n",
    "\n",
    "# ¿Qué producto? \n",
    "# Se debe escribir tal cual como aparece en la lista de arriba\n",
    "# Si no esta seguro de su acronimo, puede irse al link al final de la lista para saberlo\n",
    "prod = 'ABI-L2-TPWF'\n",
    "\n",
    "# Definamos el tiempo\n",
    "# En el ejemplo descargaremos una imagen del 4 de mayo de 2020 a las 17h (UTC)\n",
    "# Recordemos que el formato para el tiempo inicial y final es de la forma 'AAAMMDD-hhmmss'\n",
    "ini = '20200209-200000'\n",
    "fin = '20200209-200900'"
   ]
  },
  {
   "cell_type": "markdown",
   "id": "1727418c",
   "metadata": {},
   "source": [
    "No definiremos path para archivo de salida, por lo que la imgaen descargada se guardará en la carpeta desde donde se ejecuta el programa. Para cambiarlo simplemente escribimos **path_out='My/directory\n",
    "\n",
    "Ahora, ejecutemos la descarga."
   ]
  },
  {
   "cell_type": "code",
   "execution_count": 7,
   "id": "b2f9f3ad",
   "metadata": {},
   "outputs": [
    {
     "name": "stdout",
     "output_type": "stream",
     "text": [
      "Files:\n",
      "  OR_ABI-L2-TPWF-M6_G16_s20200402000071_e20200402009379_c20200402012106.nc 100% 1.3MB 1s\n"
     ]
    },
    {
     "data": {
      "text/plain": [
       "['OR_ABI-L2-TPWF-M6_G16_s20200402000071_e20200402009379_c20200402012106.nc']"
      ]
     },
     "execution_count": 7,
     "metadata": {},
     "output_type": "execute_result"
    }
   ],
   "source": [
    "GOES.download(sat,prod,DateTimeIni=ini,DateTimeFin=fin)"
   ]
  },
  {
   "cell_type": "markdown",
   "id": "7b178fd6",
   "metadata": {},
   "source": [
    "Y listo. Ya debería esta la imagen guardada"
   ]
  },
  {
   "cell_type": "markdown",
   "id": "b91b63dc",
   "metadata": {},
   "source": [
    "### Otro ejemplo\n",
    "\n",
    "Realicemos otro ejemplo, pero ahora para imágenes L1 (radianzas) en un intervalo de tiempo de una hora."
   ]
  },
  {
   "cell_type": "code",
   "execution_count": 12,
   "id": "92b7ee0e",
   "metadata": {},
   "outputs": [
    {
     "name": "stdout",
     "output_type": "stream",
     "text": [
      "Files:\n",
      "  OR_ABI-L1b-RadF-M6C08_G16_s20200330900135_e20200330909443_c20200330909511.nc 100% 19.2MB 2s\n",
      "  OR_ABI-L1b-RadF-M6C08_G16_s20200330910135_e20200330919443_c20200330919510.nc 100% 19.2MB 2s\n",
      "  OR_ABI-L1b-RadF-M6C08_G16_s20200330920135_e20200330929443_c20200330929513.nc 100% 19.2MB 3s\n",
      "  OR_ABI-L1b-RadF-M6C08_G16_s20200330930135_e20200330939443_c20200330939515.nc 100% 19.2MB 3s\n",
      "  OR_ABI-L1b-RadF-M6C08_G16_s20200330940135_e20200330949443_c20200330949513.nc 100% 19.2MB 3s\n",
      "  OR_ABI-L1b-RadF-M6C08_G16_s20200330950135_e20200330959443_c20200330959516.nc 100% 19.2MB 3s\n",
      "  OR_ABI-L1b-RadF-M6C09_G16_s20200330900135_e20200330909449_c20200330909534.nc 100% 18.1MB 3s\n",
      "  OR_ABI-L1b-RadF-M6C09_G16_s20200330910135_e20200330919449_c20200330919537.nc 100% 18.1MB 2s\n",
      "  OR_ABI-L1b-RadF-M6C09_G16_s20200330920135_e20200330929449_c20200330929523.nc 100% 18.1MB 3s\n",
      "  OR_ABI-L1b-RadF-M6C09_G16_s20200330930135_e20200330939449_c20200330939523.nc 100% 18.1MB 3s\n",
      "  OR_ABI-L1b-RadF-M6C09_G16_s20200330940135_e20200330949449_c20200330949515.nc 100% 18.1MB 3s\n",
      "  OR_ABI-L1b-RadF-M6C09_G16_s20200330950135_e20200330959449_c20200330959539.nc 100% 18.1MB 2s\n",
      "  OR_ABI-L1b-RadF-M6C10_G16_s20200330900135_e20200330909455_c20200330909520.nc 100% 22.4MB 3s\n",
      "  OR_ABI-L1b-RadF-M6C10_G16_s20200330910135_e20200330919455_c20200330919510.nc 100% 22.4MB 3s\n",
      "  OR_ABI-L1b-RadF-M6C10_G16_s20200330920135_e20200330929454_c20200330929518.nc 100% 22.4MB 3s\n",
      "  OR_ABI-L1b-RadF-M6C10_G16_s20200330930135_e20200330939455_c20200330939514.nc 100% 22.4MB 3s\n",
      "  OR_ABI-L1b-RadF-M6C10_G16_s20200330940135_e20200330949455_c20200330949507.nc 100% 22.4MB 3s\n",
      "  OR_ABI-L1b-RadF-M6C10_G16_s20200330950135_e20200330959454_c20200330959519.nc 100% 22.4MB 3s\n"
     ]
    }
   ],
   "source": [
    "flist = GOES.download('goes16','ABI-L1b-RadF',DateTimeIni='20200202-090000',\n",
    "                      DateTimeFin='20200202-100000',channel=['08','09-10'],path_out='Images/Rad/')"
   ]
  },
  {
   "cell_type": "markdown",
   "id": "b73e09a5",
   "metadata": {},
   "source": [
    "Note que en este caso debemos especificar los canales requeridos. Éstos deben tener formato string y pueden estar separados como diferentes elementos de una lista o por '-' en un mismo string. Los canales con números menores que 10 deben ser precedidos por un 0.\n",
    "\n",
    "Esta vez utilizamos un directorio de salida diferente. También se cambió la fecha, a un intervalo entre las 9 y las 10 (UTC) del día 2 de febrero de 2020."
   ]
  },
  {
   "cell_type": "markdown",
   "id": "857ea5a5",
   "metadata": {},
   "source": [
    "Además, creamos también una lista con los nombres (path) de los archivos descargados, al definir la variable flist."
   ]
  },
  {
   "cell_type": "code",
   "execution_count": 13,
   "id": "632edd2b",
   "metadata": {},
   "outputs": [
    {
     "data": {
      "text/plain": [
       "['Images/Rad/OR_ABI-L1b-RadF-M6C08_G16_s20200330900135_e20200330909443_c20200330909511.nc',\n",
       " 'Images/Rad/OR_ABI-L1b-RadF-M6C08_G16_s20200330910135_e20200330919443_c20200330919510.nc',\n",
       " 'Images/Rad/OR_ABI-L1b-RadF-M6C08_G16_s20200330920135_e20200330929443_c20200330929513.nc',\n",
       " 'Images/Rad/OR_ABI-L1b-RadF-M6C08_G16_s20200330930135_e20200330939443_c20200330939515.nc',\n",
       " 'Images/Rad/OR_ABI-L1b-RadF-M6C08_G16_s20200330940135_e20200330949443_c20200330949513.nc',\n",
       " 'Images/Rad/OR_ABI-L1b-RadF-M6C08_G16_s20200330950135_e20200330959443_c20200330959516.nc',\n",
       " 'Images/Rad/OR_ABI-L1b-RadF-M6C09_G16_s20200330900135_e20200330909449_c20200330909534.nc',\n",
       " 'Images/Rad/OR_ABI-L1b-RadF-M6C09_G16_s20200330910135_e20200330919449_c20200330919537.nc',\n",
       " 'Images/Rad/OR_ABI-L1b-RadF-M6C09_G16_s20200330920135_e20200330929449_c20200330929523.nc',\n",
       " 'Images/Rad/OR_ABI-L1b-RadF-M6C09_G16_s20200330930135_e20200330939449_c20200330939523.nc',\n",
       " 'Images/Rad/OR_ABI-L1b-RadF-M6C09_G16_s20200330940135_e20200330949449_c20200330949515.nc',\n",
       " 'Images/Rad/OR_ABI-L1b-RadF-M6C09_G16_s20200330950135_e20200330959449_c20200330959539.nc',\n",
       " 'Images/Rad/OR_ABI-L1b-RadF-M6C10_G16_s20200330900135_e20200330909455_c20200330909520.nc',\n",
       " 'Images/Rad/OR_ABI-L1b-RadF-M6C10_G16_s20200330910135_e20200330919455_c20200330919510.nc',\n",
       " 'Images/Rad/OR_ABI-L1b-RadF-M6C10_G16_s20200330920135_e20200330929454_c20200330929518.nc',\n",
       " 'Images/Rad/OR_ABI-L1b-RadF-M6C10_G16_s20200330930135_e20200330939455_c20200330939514.nc',\n",
       " 'Images/Rad/OR_ABI-L1b-RadF-M6C10_G16_s20200330940135_e20200330949455_c20200330949507.nc',\n",
       " 'Images/Rad/OR_ABI-L1b-RadF-M6C10_G16_s20200330950135_e20200330959454_c20200330959519.nc']"
      ]
     },
     "execution_count": 13,
     "metadata": {},
     "output_type": "execute_result"
    }
   ],
   "source": [
    "flist"
   ]
  },
  {
   "cell_type": "code",
   "execution_count": 14,
   "id": "835a727d",
   "metadata": {},
   "outputs": [
    {
     "data": {
      "text/plain": [
       "18"
      ]
     },
     "execution_count": 14,
     "metadata": {},
     "output_type": "execute_result"
    }
   ],
   "source": [
    "len(flist)"
   ]
  },
  {
   "cell_type": "markdown",
   "id": "4b3ab194",
   "metadata": {},
   "source": []
  }
 ],
 "metadata": {
  "kernelspec": {
   "display_name": "Python 3",
   "language": "python",
   "name": "python3"
  },
  "language_info": {
   "codemirror_mode": {
    "name": "ipython",
    "version": 3
   },
   "file_extension": ".py",
   "mimetype": "text/x-python",
   "name": "python",
   "nbconvert_exporter": "python",
   "pygments_lexer": "ipython3",
   "version": "3.8.10"
  }
 },
 "nbformat": 4,
 "nbformat_minor": 5
}
